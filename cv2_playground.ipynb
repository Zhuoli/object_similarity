{
 "cells": [
  {
   "cell_type": "code",
   "execution_count": 48,
   "id": "036ad7e5-394d-4507-9371-6e8816e29473",
   "metadata": {},
   "outputs": [],
   "source": [
    "import cv2\n",
    "import numpy as np\n",
    "from matplotlib import pyplot as plt\n",
    "\n",
    "def rgba2rgb(rgba_img_numpy):\n",
    "    print(\"RGBA_imag_numpy shape: \",rgba_img_numpy.shape)\n",
    "    a=rgba_img_numpy[:,:,0:3]\n",
    "    b=rgba_img_numpy[:,:,3]\n",
    "    c=a + b[:,:,None]\n",
    "    return c\n"
   ]
  },
  {
   "cell_type": "code",
   "execution_count": 49,
   "id": "788105b4-91e6-495d-b566-4aeaa0b3d4f3",
   "metadata": {},
   "outputs": [
    {
     "name": "stdout",
     "output_type": "stream",
     "text": [
      "RGBA_imag_numpy shape:  (48, 48, 4)\n"
     ]
    }
   ],
   "source": [
    "img1 = cv2.imread(cv2.samples.findFile(\"./resources/geetestObj3.png\"), cv2.IMREAD_UNCHANGED)\n",
    "img2 = cv2.imread(cv2.samples.findFile(\"./resources/geetestplan.jpeg\"), cv2.IMREAD_GRAYSCALE)\n",
    "img1 = rgba2rgb(img1)"
   ]
  },
  {
   "cell_type": "code",
   "execution_count": 50,
   "id": "ed8dc7a0-db1a-4386-bee5-40535e516554",
   "metadata": {},
   "outputs": [
    {
     "name": "stdout",
     "output_type": "stream",
     "text": [
      "Found matches size:  200\n"
     ]
    },
    {
     "data": {
      "text/plain": [
       "113"
      ]
     },
     "execution_count": 50,
     "metadata": {},
     "output_type": "execute_result"
    }
   ],
   "source": [
    "\n",
    "# Threshold both images first before using cv2.findContours\n",
    "# img1 = np.invert(img1)\n",
    "ret, img2 = cv2.threshold(img2, 200, 255, 0)\n",
    "\n",
    "if img1 is None or img2 is None:\n",
    "    print('Could not open or find the images!')\n",
    "    exit(0)\n",
    "#-- Step 1: Detect the keypoints using SURF Detector, compute the descriptors\n",
    "minHessian = 400\n",
    "detector = cv2.SIFT_create(edgeThreshold=10)\n",
    "keypoints1, descriptors1 = detector.detectAndCompute(img1, None)\n",
    "keypoints2, descriptors2 = detector.detectAndCompute(img2, None)\n",
    "#-- Step 2: Matching descriptor vectors with a FLANN based matcher\n",
    "# Since SURF is a floating-point descriptor NORM_L2 is used\n",
    "matcher = cv2.DescriptorMatcher_create(cv2.DescriptorMatcher_FLANNBASED)\n",
    "knn_matches = matcher.knnMatch(descriptors1, descriptors2, 2)\n",
    "#-- Filter matches using the Lowe's ratio test\n",
    "ratio_thresh = 0.8\n",
    "good_matches = []\n",
    "for m,n in knn_matches:\n",
    "    if m.distance < ratio_thresh * n.distance:\n",
    "        good_matches.append(m)\n",
    "#-- Draw matches\n",
    "img_matches = np.empty((max(img1.shape[0], img2.shape[0]), img1.shape[1]+img2.shape[1], 3), dtype=np.uint8)\n",
    "cv2.drawMatches(img1, keypoints1, img2, keypoints2, good_matches, img_matches, flags=cv2.DrawMatchesFlags_NOT_DRAW_SINGLE_POINTS)\n",
    "#-- Show detected matches\n",
    "print(\"Found matches size: \", len(img_matches))\n",
    "cv2.imshow('Good Matches', img_matches)\n",
    "cv2.waitKey()"
   ]
  },
  {
   "cell_type": "code",
   "execution_count": null,
   "id": "c3849bc2-3e23-4d59-b3d5-b44a29945844",
   "metadata": {},
   "outputs": [],
   "source": []
  }
 ],
 "metadata": {
  "kernelspec": {
   "display_name": "Python 3 (ipykernel)",
   "language": "python",
   "name": "python3"
  },
  "language_info": {
   "codemirror_mode": {
    "name": "ipython",
    "version": 3
   },
   "file_extension": ".py",
   "mimetype": "text/x-python",
   "name": "python",
   "nbconvert_exporter": "python",
   "pygments_lexer": "ipython3",
   "version": "3.9.9"
  }
 },
 "nbformat": 4,
 "nbformat_minor": 5
}
