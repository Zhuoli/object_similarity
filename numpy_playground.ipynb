{
 "cells": [
  {
   "cell_type": "code",
   "execution_count": 6,
   "id": "c771aee6-e91c-4e59-91d6-e36476a491d6",
   "metadata": {},
   "outputs": [],
   "source": [
    "# load and show an image with Pillow\n",
    "from PIL import Image\n",
    "from numpy import asarray\n",
    "import numpy as np\n"
   ]
  },
  {
   "cell_type": "code",
   "execution_count": 4,
   "id": "d92b3e47-b5c6-496a-99a6-4cc48d11ccf3",
   "metadata": {},
   "outputs": [
    {
     "name": "stdout",
     "output_type": "stream",
     "text": [
      "<class 'numpy.ndarray'>\n",
      "(48, 48, 4)\n"
     ]
    }
   ],
   "source": [
    "# Open the image form working directory\n",
    "image = Image.open(\"./resources/geetestObj1.png\") #.convert('L')\n",
    "# convert image to numpy array\n",
    "data = asarray(image)\n",
    "print(type(data))\n",
    "# summarize shape\n",
    "print(data.shape)"
   ]
  },
  {
   "cell_type": "code",
   "execution_count": 31,
   "id": "75413bbd-2a9c-403a-a51a-86e434b8f0ce",
   "metadata": {},
   "outputs": [
    {
     "name": "stdout",
     "output_type": "stream",
     "text": [
      "(2, 2, 4)\n",
      "[[[ 1  2  1 -1]\n",
      "  [ 3  4  1 -1]]\n",
      "\n",
      " [[ 5  6  1 -1]\n",
      "  [ 7  8  1 -1]]]\n",
      "a shape (2, 2, 3)\n",
      "[[[1 2 1]\n",
      "  [3 4 1]]\n",
      "\n",
      " [[5 6 1]\n",
      "  [7 8 1]]]\n",
      "b shape (2, 2)\n",
      "[[-1 -1]\n",
      " [-1 -1]]\n",
      "c:\n",
      "[[[0 1 0]\n",
      "  [2 3 0]]\n",
      "\n",
      " [[4 5 0]\n",
      "  [6 7 0]]]\n"
     ]
    }
   ],
   "source": [
    "na = np.array([[[1,2,1,-1], [3,4,1,-1]], [[5,6,1,-1], [7,8,1,-1]]])\n",
    "# summarize shape\n",
    "print(na.shape)\n",
    "print(na)\n",
    "a=na[:,:,0:3]\n",
    "b=na[:,:,3]\n",
    "print('a shape', a.shape)\n",
    "print(a)\n",
    "\n",
    "print('b shape', b.shape)\n",
    "print(b)\n",
    "\n",
    "c=a + b[:,:,None]\n",
    "print('c:')\n",
    "print(c)\n"
   ]
  }
 ],
 "metadata": {
  "kernelspec": {
   "display_name": "Python 3 (ipykernel)",
   "language": "python",
   "name": "python3"
  },
  "language_info": {
   "codemirror_mode": {
    "name": "ipython",
    "version": 3
   },
   "file_extension": ".py",
   "mimetype": "text/x-python",
   "name": "python",
   "nbconvert_exporter": "python",
   "pygments_lexer": "ipython3",
   "version": "3.9.9"
  }
 },
 "nbformat": 4,
 "nbformat_minor": 5
}
